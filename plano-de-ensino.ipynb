{
 "cells": [
  {
   "cell_type": "markdown",
   "metadata": {},
   "source": [
    "## Disclaimer\n",
    "* Para quem chegou nesse github eu irei postar coisas no blog https://www.matheusfrancisco.com.br/ sobre alguns processos de aprendizado para resolver problemas\n",
    "* Também esse plano de ensino pode aumentar ou mudar de acordo com minhas leituras e novas descobertas\n",
    "* Tentarei ser constante mas podem entrar no telegram e me cobrar https://t.me/boraensinarpython\n",
    "* As lives serão feitas  https://www.twitch.tv/mat_xicao\n",
    "* Todos os códigos são de coração"
   ]
  },
  {
   "cell_type": "markdown",
   "metadata": {},
   "source": [
    "## Nosso ponto de partida!!\n",
    "\n",
    "Esse matérial é para ajudar pessoas que estão começando em python, ou seja do zero até conseguir sentir orgulho dos códigos.\n",
    "Inicialmente iremos passar por alguns pontos básicos, para melhorar nossa lógica e aprender um pouco sobre a linguagem. \n",
    "Também iremos codar utilizando TDD, com isso podemos desenvolver boas práticas como realizar testes antes de escrever código.\n",
    "\n",
    "Para cada ponto descrito abaixo tentaremos realizar alguns exercicios utilizando TDD para resolver o problema.\n",
    "## Inicialmente iremos resolver alguns exercicios\n",
    "- [ ] Numbers \n",
    "- [ ] Strings\n",
    "- [x] Lists - url https://github.com/matheusfrancisco/bora-ensinar-python/blob/master/introducao/introducao_listas_dicts.ipynb\n",
    "- [x] Dictionaries - url https://github.com/matheusfrancisco/bora-ensinar-python/blob/master/introducao/introducao_listas_dicts.ipynb\n",
    "- [ ] Tuples\n",
    "- [ ] Sets\n",
    "- [ ] Files\n",
    "\n",
    "## Introdução Operadores matemáticos\n",
    "\n",
    "## Introdução python statements\n",
    "- [ ] Usar if/else/elif\n",
    "- [ ] Usar for\n",
    "- [ ] Usar while\n",
    "\n",
    "## Introdução a Funções\n",
    "## Introdução a Modulos\n",
    "## Introdução a Classes OOP\n"
   ]
  },
  {
   "cell_type": "markdown",
   "metadata": {},
   "source": [
    "# Recomendações de links\n",
    "Links para estudar mais sobre python:\n",
    "* https://docs.python.org/3/tutorial/index.html\n",
    "* https://pythonbasics.org/\n",
    "* https://thepythonguru.com/\n",
    "\n",
    "\n",
    "Para trabalhar a logica de programação recomendo os sites:\n",
    "* https://urionlinejudge.com.br/\n",
    "* https://exercism.io/my/tracks/python"
   ]
  },
  {
   "cell_type": "code",
   "execution_count": null,
   "metadata": {},
   "outputs": [],
   "source": []
  }
 ],
 "metadata": {
  "kernelspec": {
   "display_name": "Python 3",
   "language": "python",
   "name": "python3"
  },
  "language_info": {
   "codemirror_mode": {
    "name": "ipython",
    "version": 3
   },
   "file_extension": ".py",
   "mimetype": "text/x-python",
   "name": "python",
   "nbconvert_exporter": "python",
   "pygments_lexer": "ipython3",
   "version": "3.7.3"
  }
 },
 "nbformat": 4,
 "nbformat_minor": 4
}
